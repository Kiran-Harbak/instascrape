{
 "cells": [
  {
   "cell_type": "markdown",
   "metadata": {},
   "source": [
    "# Hashtag Growth Tracker \n",
    "The following is a simple example that uses instascrape to track the growth of a particular hashtag over a 1 minute period using instascrape.Hashtag.\n"
   ]
  },
  {
   "cell_type": "code",
   "execution_count": 7,
   "metadata": {},
   "outputs": [],
   "source": [
    "import time\n",
    "import datetime\n",
    "import sys \n",
    "import os \n",
    "\n",
    "import matplotlib.pyplot as plt \n",
    "from pandas import DataFrame \n",
    "\n",
    "sys.path.insert(0, os.path.abspath('..'))\n",
    "from instascrape import Hashtag"
   ]
  },
  {
   "cell_type": "code",
   "execution_count": null,
   "metadata": {},
   "outputs": [],
   "source": [
    "#Metadata  \n",
    "TOTAL_TIME = 60\n",
    "WAIT_TIME = 5\n",
    "TAG_NAME = 'photography'\n",
    "\n",
    "hashtag_data = {}\n",
    "for sec in range(0, TOTAL_TIME, WAIT_TIME):\n",
    "    time.sleep(10)\n",
    "    hashtag = Hashtag.from_hashtag(hashtag=TAG_NAME)\n",
    "    hashtag.static_load()\n",
    "    date = datetime.datetime.now()\n",
    "    hashtag_data[date] = hashtag.data.amount_of_posts"
   ]
  },
  {
   "cell_type": "code",
   "execution_count": null,
   "metadata": {},
   "outputs": [],
   "source": []
  }
 ],
 "metadata": {
  "kernelspec": {
   "display_name": "Python 3.7.4 64-bit ('Chris': virtualenv)",
   "language": "python",
   "name": "python37464bitchrisvirtualenv7257ff887f2f42e49b4f10d8b8979f3e"
  },
  "language_info": {
   "codemirror_mode": {
    "name": "ipython",
    "version": 3
   },
   "file_extension": ".py",
   "mimetype": "text/x-python",
   "name": "python",
   "nbconvert_exporter": "python",
   "pygments_lexer": "ipython3",
   "version": "3.7.4"
  }
 },
 "nbformat": 4,
 "nbformat_minor": 2
}
