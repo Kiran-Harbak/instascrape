{
 "cells": [
  {
   "cell_type": "markdown",
   "metadata": {},
   "source": [
    "# Instascrape CSV Example (using pandas)"
   ]
  },
  {
   "cell_type": "markdown",
   "metadata": {},
   "source": [
    "First, we want to import our necessary libraries. Otherwise, the Python interpreter will get confused and error out."
   ]
  },
  {
   "cell_type": "code",
   "execution_count": 1,
   "metadata": {},
   "outputs": [],
   "source": [
    "import json # import needed libraries / pip3 install json\n",
    "\n",
    "from instascrape import Profile # pip3 install insta-scrape\n",
    "\n",
    "import pandas as pd # pip3 install pandas"
   ]
  },
  {
   "cell_type": "markdown",
   "metadata": {},
   "source": [
    "## Scraping the Data\n",
    "\n",
    "Now that we have the required libraries of code, we can begin by declaring the profile that we want to scrape, scraping data from that profile, and forming a Python dictionary using said data."
   ]
  },
  {
   "cell_type": "code",
   "execution_count": 2,
   "metadata": {},
   "outputs": [],
   "source": [
    "google = Profile.from_username('google') # declare profile"
   ]
  },
  {
   "cell_type": "code",
   "execution_count": 3,
   "metadata": {},
   "outputs": [],
   "source": [
    "google.static_load() # scrape profile"
   ]
  },
  {
   "cell_type": "code",
   "execution_count": 4,
   "metadata": {},
   "outputs": [],
   "source": [
    "google_data = google.to_dict() # turn scraped data into python dictionary"
   ]
  },
  {
   "cell_type": "markdown",
   "metadata": {},
   "source": [
    "### Format to CSV\n",
    "\n",
    "Finally, we want to format the dictionary to JSON and format this JSON to CSV using a DataFrame"
   ]
  },
  {
   "cell_type": "code",
   "execution_count": 5,
   "metadata": {
    "scrolled": false
   },
   "outputs": [],
   "source": [
    "google_data = {key: [val] for key, val in google_data.items()}\n",
    "df = pd.DataFrame(google_data).T # create DataFrame"
   ]
  },
  {
   "cell_type": "code",
   "execution_count": 6,
   "metadata": {},
   "outputs": [],
   "source": [
    "# convert DataFrame to CSV | note: you can now implement this without pandas using the \"to_csv\" method\n",
    "df.to_csv('google.csv', encoding='utf-8')"
   ]
  },
  {
   "cell_type": "code",
   "execution_count": 7,
   "metadata": {},
   "outputs": [
    {
     "name": "stdout",
     "output_type": "stream",
     "text": [
      "Done!\n"
     ]
    },
    {
     "data": {
      "text/html": [
       "<div>\n",
       "<style scoped>\n",
       "    .dataframe tbody tr th:only-of-type {\n",
       "        vertical-align: middle;\n",
       "    }\n",
       "\n",
       "    .dataframe tbody tr th {\n",
       "        vertical-align: top;\n",
       "    }\n",
       "\n",
       "    .dataframe thead th {\n",
       "        text-align: right;\n",
       "    }\n",
       "</style>\n",
       "<table border=\"1\" class=\"dataframe\">\n",
       "  <thead>\n",
       "    <tr style=\"text-align: right;\">\n",
       "      <th></th>\n",
       "      <th>0</th>\n",
       "    </tr>\n",
       "  </thead>\n",
       "  <tbody>\n",
       "    <tr>\n",
       "      <td>country_code</td>\n",
       "      <td>US</td>\n",
       "    </tr>\n",
       "    <tr>\n",
       "      <td>language_code</td>\n",
       "      <td>en</td>\n",
       "    </tr>\n",
       "    <tr>\n",
       "      <td>locale</td>\n",
       "      <td>en_US</td>\n",
       "    </tr>\n",
       "    <tr>\n",
       "      <td>biography</td>\n",
       "      <td>Google unfiltered—sometimes with filters.</td>\n",
       "    </tr>\n",
       "    <tr>\n",
       "      <td>blocked_by_viewer</td>\n",
       "      <td>False</td>\n",
       "    </tr>\n",
       "    <tr>\n",
       "      <td>business_email</td>\n",
       "      <td></td>\n",
       "    </tr>\n",
       "    <tr>\n",
       "      <td>restricted_by_viewer</td>\n",
       "      <td>None</td>\n",
       "    </tr>\n",
       "    <tr>\n",
       "      <td>country_block</td>\n",
       "      <td>False</td>\n",
       "    </tr>\n",
       "    <tr>\n",
       "      <td>external_url</td>\n",
       "      <td>https://linkin.bio/google</td>\n",
       "    </tr>\n",
       "    <tr>\n",
       "      <td>followers</td>\n",
       "      <td>12250532</td>\n",
       "    </tr>\n",
       "    <tr>\n",
       "      <td>followed_by_viewer</td>\n",
       "      <td>False</td>\n",
       "    </tr>\n",
       "    <tr>\n",
       "      <td>following</td>\n",
       "      <td>30</td>\n",
       "    </tr>\n",
       "    <tr>\n",
       "      <td>follows_viewer</td>\n",
       "      <td>False</td>\n",
       "    </tr>\n",
       "    <tr>\n",
       "      <td>has_ar_effects</td>\n",
       "      <td>False</td>\n",
       "    </tr>\n",
       "    <tr>\n",
       "      <td>has_clips</td>\n",
       "      <td>True</td>\n",
       "    </tr>\n",
       "    <tr>\n",
       "      <td>has_guides</td>\n",
       "      <td>False</td>\n",
       "    </tr>\n",
       "    <tr>\n",
       "      <td>has_channel</td>\n",
       "      <td>False</td>\n",
       "    </tr>\n",
       "    <tr>\n",
       "      <td>has_blocked_viewer</td>\n",
       "      <td>False</td>\n",
       "    </tr>\n",
       "    <tr>\n",
       "      <td>highlight_reel_count</td>\n",
       "      <td>5</td>\n",
       "    </tr>\n",
       "    <tr>\n",
       "      <td>has_requested_viewer</td>\n",
       "      <td>False</td>\n",
       "    </tr>\n",
       "    <tr>\n",
       "      <td>id</td>\n",
       "      <td>1067259270</td>\n",
       "    </tr>\n",
       "    <tr>\n",
       "      <td>is_business_account</td>\n",
       "      <td>True</td>\n",
       "    </tr>\n",
       "    <tr>\n",
       "      <td>is_joined_recently</td>\n",
       "      <td>False</td>\n",
       "    </tr>\n",
       "    <tr>\n",
       "      <td>business_category</td>\n",
       "      <td>Business &amp; Utility Services</td>\n",
       "    </tr>\n",
       "    <tr>\n",
       "      <td>overall_category</td>\n",
       "      <td>None</td>\n",
       "    </tr>\n",
       "    <tr>\n",
       "      <td>category_enum</td>\n",
       "      <td>INTERNET_COMPANY</td>\n",
       "    </tr>\n",
       "    <tr>\n",
       "      <td>is_private</td>\n",
       "      <td>False</td>\n",
       "    </tr>\n",
       "    <tr>\n",
       "      <td>is_verified</td>\n",
       "      <td>True</td>\n",
       "    </tr>\n",
       "    <tr>\n",
       "      <td>mutual_followed_by</td>\n",
       "      <td>0</td>\n",
       "    </tr>\n",
       "    <tr>\n",
       "      <td>profile_pic_url</td>\n",
       "      <td>https://scontent-lga3-1.cdninstagram.com/v/t51...</td>\n",
       "    </tr>\n",
       "    <tr>\n",
       "      <td>requested_by_viewer</td>\n",
       "      <td>False</td>\n",
       "    </tr>\n",
       "    <tr>\n",
       "      <td>username</td>\n",
       "      <td>google</td>\n",
       "    </tr>\n",
       "    <tr>\n",
       "      <td>connected_fb_page</td>\n",
       "      <td>None</td>\n",
       "    </tr>\n",
       "    <tr>\n",
       "      <td>posts</td>\n",
       "      <td>1405</td>\n",
       "    </tr>\n",
       "  </tbody>\n",
       "</table>\n",
       "</div>"
      ],
      "text/plain": [
       "                                                                      0\n",
       "country_code                                                         US\n",
       "language_code                                                        en\n",
       "locale                                                            en_US\n",
       "biography                     Google unfiltered—sometimes with filters.\n",
       "blocked_by_viewer                                                 False\n",
       "business_email                                                         \n",
       "restricted_by_viewer                                               None\n",
       "country_block                                                     False\n",
       "external_url                                  https://linkin.bio/google\n",
       "followers                                                      12250532\n",
       "followed_by_viewer                                                False\n",
       "following                                                            30\n",
       "follows_viewer                                                    False\n",
       "has_ar_effects                                                    False\n",
       "has_clips                                                          True\n",
       "has_guides                                                        False\n",
       "has_channel                                                       False\n",
       "has_blocked_viewer                                                False\n",
       "highlight_reel_count                                                  5\n",
       "has_requested_viewer                                              False\n",
       "id                                                           1067259270\n",
       "is_business_account                                                True\n",
       "is_joined_recently                                                False\n",
       "business_category                           Business & Utility Services\n",
       "overall_category                                                   None\n",
       "category_enum                                          INTERNET_COMPANY\n",
       "is_private                                                        False\n",
       "is_verified                                                        True\n",
       "mutual_followed_by                                                    0\n",
       "profile_pic_url       https://scontent-lga3-1.cdninstagram.com/v/t51...\n",
       "requested_by_viewer                                               False\n",
       "username                                                         google\n",
       "connected_fb_page                                                  None\n",
       "posts                                                              1405"
      ]
     },
     "execution_count": 7,
     "metadata": {},
     "output_type": "execute_result"
    }
   ],
   "source": [
    "print(\"Done!\")\n",
    "df"
   ]
  },
  {
   "cell_type": "code",
   "execution_count": null,
   "metadata": {},
   "outputs": [],
   "source": []
  }
 ],
 "metadata": {
  "kernelspec": {
   "display_name": "Python 3",
   "language": "python",
   "name": "python3"
  },
  "language_info": {
   "codemirror_mode": {
    "name": "ipython",
    "version": 3
   },
   "file_extension": ".py",
   "mimetype": "text/x-python",
   "name": "python",
   "nbconvert_exporter": "python",
   "pygments_lexer": "ipython3",
   "version": "3.7.4"
  }
 },
 "nbformat": 4,
 "nbformat_minor": 4
}
