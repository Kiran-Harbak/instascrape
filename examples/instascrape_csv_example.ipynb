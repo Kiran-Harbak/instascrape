{
 "cells": [
  {
   "cell_type": "markdown",
   "metadata": {},
   "source": [
    "# Instascrape CSV Example (using pandas)"
   ]
  },
  {
   "cell_type": "markdown",
   "metadata": {},
   "source": [
    "First, we want to import our necessary libraries. Otherwise, the Python interpreter will get confused and error out."
   ]
  },
  {
   "cell_type": "code",
   "execution_count": 1,
   "metadata": {},
   "outputs": [],
   "source": [
    "import json # import needed libraries / pip3 install json\n",
    "\n",
    "from instascrape import Profile # pip3 install insta-scrape\n",
    "\n",
    "import pandas as pd # pip3 install pandas"
   ]
  },
  {
   "cell_type": "markdown",
   "metadata": {},
   "source": [
    "## Scraping the Data\n",
    "\n",
    "Now that we have the required libraries of code, we can begin by declaring the profile that we want to scrape, scraping data from that profile, and forming a Python dictionary using said data."
   ]
  },
  {
   "cell_type": "code",
   "execution_count": 2,
   "metadata": {},
   "outputs": [],
   "source": [
    "google = Profile.from_username('google') # declare profile"
   ]
  },
  {
   "cell_type": "code",
   "execution_count": 3,
   "metadata": {},
   "outputs": [],
   "source": [
    "google.static_load() # scrape profile"
   ]
  },
  {
   "cell_type": "code",
   "execution_count": 4,
   "metadata": {},
   "outputs": [],
   "source": [
    "google_data = google.to_dict() # turn scraped data into python dictionary"
   ]
  },
  {
   "cell_type": "markdown",
   "metadata": {},
   "source": [
    "### Format to CSV\n",
    "\n",
    "Finally, we want to format the dictionary to JSON and format this JSON to CSV using a DataFrame"
   ]
  },
  {
   "cell_type": "code",
   "execution_count": 5,
   "metadata": {
    "scrolled": false
   },
   "outputs": [],
   "source": [
    "google_data = {key: [val] for key, val in google_data.items()}\n",
    "df = pd.DataFrame(google_data) # create DataFrame"
   ]
  },
  {
   "cell_type": "code",
   "execution_count": 6,
   "metadata": {},
   "outputs": [],
   "source": [
    "# convert DataFrame to CSV | note: you can now implement this without pandas using the \"to_csv\" method\n",
    "df.to_csv('google.csv', encoding='utf-8', index=False)"
   ]
  },
  {
   "cell_type": "code",
   "execution_count": 7,
   "metadata": {},
   "outputs": [
    {
     "name": "stdout",
     "output_type": "stream",
     "text": [
      "                         csrf_token country_code language_code locale  \\\n",
      "0  3Y7smLoBx4ScPe7uzXlHd8DsIx5trquf           US            en  en_US   \n",
      "\n",
      "            hostname  is_whitelisted_crawl_bot connection_quality_rating  \\\n",
      "0  www.instagram.com                     False                 EXCELLENT   \n",
      "\n",
      "  platform                             device_id  \\\n",
      "0      web  5543C978-A5EF-4147-A155-AF7C61B3BF7B   \n",
      "\n",
      "                                          encryption  ... overall_category  \\\n",
      "0  {'key_id': '126', 'public_key': '473605a7e91fa...  ...             None   \n",
      "\n",
      "      category_enum  is_private is_verified mutual_followed_by  \\\n",
      "0  INTERNET_COMPANY       False        True                  0   \n",
      "\n",
      "                                     profile_pic_url requested_by_viewer  \\\n",
      "0  https://scontent-iad3-1.cdninstagram.com/v/t51...               False   \n",
      "\n",
      "   username  connected_fb_page  posts  \n",
      "0    google               None   1405  \n",
      "\n",
      "[1 rows x 42 columns]\n",
      "Done!\n"
     ]
    }
   ],
   "source": [
    "print(df.head())\n",
    "\n",
    "print(\"Done!\")"
   ]
  }
 ],
 "metadata": {
  "kernelspec": {
   "display_name": "Python 3",
   "language": "python",
   "name": "python3"
  },
  "language_info": {
   "codemirror_mode": {
    "name": "ipython",
    "version": 3
   },
   "file_extension": ".py",
   "mimetype": "text/x-python",
   "name": "python",
   "nbconvert_exporter": "python",
   "pygments_lexer": "ipython3",
   "version": "3.7.3"
  }
 },
 "nbformat": 4,
 "nbformat_minor": 4
}
