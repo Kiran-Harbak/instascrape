{
 "cells": [
  {
   "cell_type": "markdown",
   "metadata": {},
   "source": [
    "# Dynamic Profile Scrape \n",
    "In this example, we will subclass and extend instascrape.Profile to dynamically scrape all the posts of a profile using Selenium. Additionally, all posts will be loaded as instascrape.Post objects which will give us the ability to scrape individual posts for all of their data as well."
   ]
  },
  {
   "cell_type": "code",
   "execution_count": 1,
   "metadata": {},
   "outputs": [],
   "source": [
    "import pandas as pd \n",
    "import matplotlib.pyplot as plt \n",
    "\n",
    "from dynamic_profile import DynamicProfile"
   ]
  },
  {
   "cell_type": "markdown",
   "metadata": {},
   "source": [
    "### Scraping the data \n",
    "First, we'll start by scraping the data with our DynamicProfile subclass of instascrape.Profile. To get an understanding of how this class works, go take a look at it's source in dynamic_profile.py included in this folder. For the purpose of this exercise, it will make requests synchronously but if you wanted to speed it up, you could rewrite this asynchrounously."
   ]
  },
  {
   "cell_type": "code",
   "execution_count": null,
   "metadata": {},
   "outputs": [
    {
     "name": "stdout",
     "output_type": "stream",
     "text": [
      "0\n"
     ]
    }
   ],
   "source": [
    "username = 'realpython'\n",
    "profile = DynamicProfile.from_username(username)\n",
    "profile.static_load()\n",
    "profile.dynamic_load()"
   ]
  },
  {
   "cell_type": "markdown",
   "metadata": {},
   "source": [
    "### Plotting the data \n",
    "Now that the data has been scraped, we can get into analyzing it! Let's clean it up a little, create a DataFrame, and get going with plotting this data. \n",
    "\n",
    "First, let's build a list of tuples where each tuple represents a posts upload date, the amount of likes a post got, and the amount of comments. "
   ]
  },
  {
   "cell_type": "code",
   "execution_count": null,
   "metadata": {},
   "outputs": [],
   "source": [
    "data_arr = []\n",
    "for post in profile.posts:\n",
    "    try:\n",
    "        data_arr.append((post.data.upload_date, post.data.likes, post.data.amount_of_comments))\n",
    "    except AttributeError: \n",
    "        pass "
   ]
  },
  {
   "cell_type": "markdown",
   "metadata": {},
   "source": [
    "With that list of tuples now, we can instantiate a pandas.DataFrame to make working with our data more manageable. "
   ]
  },
  {
   "cell_type": "code",
   "execution_count": null,
   "metadata": {},
   "outputs": [],
   "source": [
    "dataframe = pd.DataFrame(data_arr, columns=['datetime', 'likes', 'comments'])                          \n",
    "dataframe = dataframe.sort_values(by=['datetime']).reset_index(drop=True)   #Sort by date\n",
    "dataframe.head()                                                            #Show first few data points"
   ]
  },
  {
   "cell_type": "markdown",
   "metadata": {},
   "source": [
    "Now that we have our DataFrame, we can begin exploring this profile's data. Let's get a simple scatter plot so we can see if there are any trends we can see right off the bat. "
   ]
  },
  {
   "cell_type": "code",
   "execution_count": null,
   "metadata": {},
   "outputs": [],
   "source": [
    "from pandas.plotting import register_matplotlib_converters\n",
    "\n",
    "plt.style.use('ggplot')\n",
    "\n",
    "#Draw the scatter plot\n",
    "plt.scatter(dataframe['datetime'], dataframe['likes'])\n",
    "fig = plt.gcf()\n",
    "ax = plt.gca()\n",
    "fig.set_size_inches(16, 6)\n",
    "\n",
    "#Write text where applicable \n",
    "description = f\"followers={profile.data.followers: ,}\\n\"\n",
    "description += f\"following={profile.data.following: ,}\\n\"\n",
    "description += f\"posts={profile.data.posts: ,}\"\n",
    "plt.text(0.05, 0.8, description, transform=ax.transAxes, fontsize=14)\n",
    "\n",
    "#Write labels \n",
    "plt.xlabel('Datetime', fontsize=16)\n",
    "plt.ylabel('Likes', fontsize=16)\n",
    "plt.title(f'@{username} Instagram time series', fontsize=20)\n",
    "# plt.legend(loc=\"upper left\")\n",
    "plt.show()"
   ]
  },
  {
   "cell_type": "code",
   "execution_count": null,
   "metadata": {},
   "outputs": [],
   "source": []
  }
 ],
 "metadata": {
  "kernelspec": {
   "display_name": "Python 3.7.4 64-bit ('Chris': virtualenv)",
   "language": "python",
   "name": "python37464bitchrisvirtualenv7257ff887f2f42e49b4f10d8b8979f3e"
  },
  "language_info": {
   "codemirror_mode": {
    "name": "ipython",
    "version": 3
   },
   "file_extension": ".py",
   "mimetype": "text/x-python",
   "name": "python",
   "nbconvert_exporter": "python",
   "pygments_lexer": "ipython3",
   "version": "3.7.4"
  }
 },
 "nbformat": 4,
 "nbformat_minor": 2
}
