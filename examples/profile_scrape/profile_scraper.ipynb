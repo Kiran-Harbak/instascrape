{
 "cells": [
  {
   "cell_type": "markdown",
   "metadata": {},
   "source": [
    "# Dynamic Profile Scrape \n",
    "In this example, we will subclass and extend instascrape.Profile to dynamically scrape all the posts of a profile using Selenium. Additionally, all posts will be loaded as instascrape.Post objects which will give us the ability to scrape individual posts for all of their data as well."
   ]
  },
  {
   "cell_type": "code",
   "execution_count": 1,
   "metadata": {},
   "outputs": [],
   "source": [
    "import pandas as pd \n",
    "import matplotlib.pyplot as plt \n",
    "\n",
    "from dynamic_profile import DynamicProfile\n",
    "from selenium.webdriver import Chrome, ChromeOptions # pip3 install selenium"
   ]
  },
  {
   "cell_type": "markdown",
   "metadata": {},
   "source": [
    "### Download Chrome WebDriver\n",
    "Besides Selenium, you also need Chrome WebDriver for this example. Download and extract from the below link.\n",
    "\n",
    "Download: https://sites.google.com/a/chromium.org/chromedriver/downloads\n",
    "\n",
    "Set `webdriver_executable` to the absolute path of the chromedriver executable"
   ]
  },
  {
   "cell_type": "code",
   "execution_count": 15,
   "metadata": {},
   "outputs": [],
   "source": [
    "webdriver_executable = 'path/to/webdriver/chromedriver'"
   ]
  },
  {
   "cell_type": "markdown",
   "metadata": {},
   "source": [
    "### Scraping the data \n",
    "First, we'll start by scraping the data with our DynamicProfile subclass of instascrape.Profile. To get an understanding of how this class works, go take a look at it's source in dynamic_profile.py included in this folder. For the purpose of this exercise, it will make requests synchronously but if you wanted to speed it up, you could rewrite this asynchrounously."
   ]
  },
  {
   "cell_type": "code",
   "execution_count": 2,
   "metadata": {},
   "outputs": [
    {
     "name": "stdout",
     "output_type": "stream",
     "text": [
      "Read 0 posts\n",
      "'accessibility_caption'\n",
      "Read 10 posts\n"
     ]
    }
   ],
   "source": [
    "username = 'realpython'\n",
    "max_posts_to_load = 50\n",
    "profile = DynamicProfile.from_username(username)\n",
    "profile.load() # get basic profile info (e.g followers, followings)\n",
    "profile.dynamic_load(Chrome(webdriver_executable), max_posts=max_posts_to_load) # get posts"
   ]
  },
  {
   "cell_type": "markdown",
   "metadata": {},
   "source": [
    "### Plotting the data \n",
    "Now that the data has been scraped, we can get into analyzing it! Let's clean it up a little, create a DataFrame, and get going with plotting this data. \n",
    "\n",
    "First, let's build a list of tuples where each tuple represents a posts upload date, the amount of likes a post got, and the amount of comments. "
   ]
  },
  {
   "cell_type": "code",
   "execution_count": 3,
   "metadata": {},
   "outputs": [
    {
     "name": "stdout",
     "output_type": "stream",
     "text": [
      "'Post' object has no attribute 'upload_date'\n"
     ]
    }
   ],
   "source": [
    "data_arr = []\n",
    "for post in profile.posts:\n",
    "    try:\n",
    "        data_arr.append((post.upload_date, post.likes, post.comments))\n",
    "    except AttributeError as e: \n",
    "        pass "
   ]
  },
  {
   "cell_type": "markdown",
   "metadata": {},
   "source": [
    "With that list of tuples now, we can instantiate a pandas.DataFrame to make working with our data more manageable. "
   ]
  },
  {
   "cell_type": "code",
   "execution_count": 4,
   "metadata": {},
   "outputs": [
    {
     "data": {
      "text/html": [
       "<div>\n",
       "<style scoped>\n",
       "    .dataframe tbody tr th:only-of-type {\n",
       "        vertical-align: middle;\n",
       "    }\n",
       "\n",
       "    .dataframe tbody tr th {\n",
       "        vertical-align: top;\n",
       "    }\n",
       "\n",
       "    .dataframe thead th {\n",
       "        text-align: right;\n",
       "    }\n",
       "</style>\n",
       "<table border=\"1\" class=\"dataframe\">\n",
       "  <thead>\n",
       "    <tr style=\"text-align: right;\">\n",
       "      <th></th>\n",
       "      <th>datetime</th>\n",
       "      <th>likes</th>\n",
       "      <th>comments</th>\n",
       "    </tr>\n",
       "  </thead>\n",
       "  <tbody>\n",
       "    <tr>\n",
       "      <th>0</th>\n",
       "      <td>2020-08-13 22:20:05</td>\n",
       "      <td>81</td>\n",
       "      <td>0</td>\n",
       "    </tr>\n",
       "    <tr>\n",
       "      <th>1</th>\n",
       "      <td>2020-08-18 22:20:10</td>\n",
       "      <td>78</td>\n",
       "      <td>0</td>\n",
       "    </tr>\n",
       "    <tr>\n",
       "      <th>2</th>\n",
       "      <td>2020-08-23 16:52:06</td>\n",
       "      <td>110</td>\n",
       "      <td>0</td>\n",
       "    </tr>\n",
       "    <tr>\n",
       "      <th>3</th>\n",
       "      <td>2020-08-25 22:20:07</td>\n",
       "      <td>121</td>\n",
       "      <td>1</td>\n",
       "    </tr>\n",
       "    <tr>\n",
       "      <th>4</th>\n",
       "      <td>2020-08-27 22:20:05</td>\n",
       "      <td>75</td>\n",
       "      <td>0</td>\n",
       "    </tr>\n",
       "  </tbody>\n",
       "</table>\n",
       "</div>"
      ],
      "text/plain": [
       "             datetime  likes  comments\n",
       "0 2020-08-13 22:20:05     81         0\n",
       "1 2020-08-18 22:20:10     78         0\n",
       "2 2020-08-23 16:52:06    110         0\n",
       "3 2020-08-25 22:20:07    121         1\n",
       "4 2020-08-27 22:20:05     75         0"
      ]
     },
     "execution_count": 4,
     "metadata": {},
     "output_type": "execute_result"
    }
   ],
   "source": [
    "dataframe = pd.DataFrame(data_arr, columns=['datetime', 'likes', 'comments'])                          \n",
    "dataframe = dataframe.sort_values(by=['datetime']).reset_index(drop=True)   #Sort by date\n",
    "dataframe.head()                                                            #Show first few data points"
   ]
  },
  {
   "cell_type": "markdown",
   "metadata": {},
   "source": [
    "Now that we have our DataFrame, we can begin exploring this profile's data. Let's get a simple scatter plot so we can see if there are any trends we can see right off the bat. "
   ]
  },
  {
   "cell_type": "code",
   "execution_count": 14,
   "metadata": {},
   "outputs": [
    {
     "name": "stdout",
     "output_type": "stream",
     "text": [
      "11533\n"
     ]
    },
    {
     "data": {
      "image/png": "[encoded data removed]",
      "text/plain": [
       "<Figure size 1152x432 with 1 Axes>"
      ]
     },
     "metadata": {},
     "output_type": "display_data"
    }
   ],
   "source": [
    "from pandas.plotting import register_matplotlib_converters\n",
    "\n",
    "plt.style.use('ggplot')\n",
    "\n",
    "#Draw the scatter plot\n",
    "plt.scatter(dataframe['datetime'], dataframe['likes'])\n",
    "fig = plt.gcf()\n",
    "ax = plt.gca()\n",
    "fig.set_size_inches(16, 6)\n",
    "\n",
    "#Write text where applicable \n",
    "print(profile.followers)\n",
    "description = f\"followers={profile.followers: ,}\\n\"\n",
    "description += f\"following={profile.following: ,}\\n\"\n",
    "description += f\"posts={len(profile.posts): ,}\"\n",
    "plt.text(0.05, 0.8, description, transform=ax.transAxes, fontsize=14)\n",
    "\n",
    "#Write labels \n",
    "plt.xlabel('Datetime', fontsize=16)\n",
    "plt.ylabel('Likes', fontsize=16)\n",
    "plt.title(f'@{username} Instagram time series', fontsize=20)\n",
    "# plt.legend(loc=\"upper left\")\n",
    "plt.show()"
   ]
  },
  {
   "cell_type": "code",
   "execution_count": null,
   "metadata": {},
   "outputs": [],
   "source": []
  }
 ],
 "metadata": {
  "kernelspec": {
   "display_name": "Python 3.7.4 64-bit ('Chris': virtualenv)",
   "language": "python",
   "name": "python37464bitchrisvirtualenv7257ff887f2f42e49b4f10d8b8979f3e"
  },
  "language_info": {
   "codemirror_mode": {
    "name": "ipython",
    "version": 3
   },
   "file_extension": ".py",
   "mimetype": "text/x-python",
   "name": "python",
   "nbconvert_exporter": "python",
   "pygments_lexer": "ipython3",
   "version": "3.7.4"
  }
 },
 "nbformat": 4,
 "nbformat_minor": 2
}
