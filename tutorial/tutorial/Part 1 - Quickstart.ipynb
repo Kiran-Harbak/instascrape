{
 "cells": [
  {
   "cell_type": "markdown",
   "metadata": {},
   "source": [
    "# Part 1 - Quickstart\n",
    "\n",
    "In this section, we're going to get a feel for the API so you can get going with scripting ASAP."
   ]
  },
  {
   "cell_type": "markdown",
   "metadata": {},
   "source": [
    "## Importing the library\n",
    "\n",
    "Most of what you'll need from the API is exposed by simply calling:"
   ]
  },
  {
   "cell_type": "code",
   "execution_count": 2,
   "metadata": {},
   "outputs": [],
   "source": [
    "import instascrape "
   ]
  },
  {
   "cell_type": "markdown",
   "metadata": {},
   "source": [
    "## The three pillars of instascrape"
   ]
  },
  {
   "cell_type": "markdown",
   "metadata": {},
   "source": [
    "instascrape's API is designed in such a way such that the scrapers also double as semantic representations of what it is they're scraping. The three workhorse scrapers you'll primarily be dealing with are the `Post`, `Profile`, and `Hashtag` objects. Let's take a look at how these work:"
   ]
  },
  {
   "cell_type": "code",
   "execution_count": 8,
   "metadata": {},
   "outputs": [],
   "source": [
    "from instascrape import Post, Profile, Hashtag\n",
    "\n",
    "google_post = Post('CGQG3-hlcNQ')\n",
    "google = Profile('google')\n",
    "google_hashtag = Hashtag('google')"
   ]
  },
  {
   "cell_type": "markdown",
   "metadata": {},
   "source": [
    "Awesome! We can see almost immediately what our intentions are with this script: scrape one post, one profile, and one hashtag. Before we actually scrape our data though, let's build some contextual background knowledge on the API. \n",
    "\n",
    "Under the hood, `Post`, `Profile`, and `Hashtag` are sibling subclasses. Thus, once you're familiar with the methods and expected behaviors of one object, that will translate to the others as well. There are only a handful of methods that are specific to their respective subclass as we will explore in later sections. \n",
    "\n",
    "Let's now scrape some data!"
   ]
  },
  {
   "cell_type": "code",
   "execution_count": 10,
   "metadata": {},
   "outputs": [],
   "source": [
    "google_post.scrape()\n",
    "google.scrape()\n",
    "google_hashtag.scrape()"
   ]
  },
  {
   "cell_type": "markdown",
   "metadata": {},
   "source": [
    "Internally, each `scrape` method call\n",
    "- constructs and requests the appropriate URL\n",
    "- parses JSON out of the HTML response \n",
    "- scrapes useful data from the JSON\n",
    "\n",
    "That's basically it! To access the scraped data, we now have a couple options. As we discussed earlier, the scrapers also serve as semantic representations of themselves, let's take a look at what this means:"
   ]
  },
  {
   "cell_type": "code",
   "execution_count": 24,
   "metadata": {},
   "outputs": [
    {
     "name": "stdout",
     "output_type": "stream",
     "text": [
      "Google has 12,280,479 followers.\n",
      "Google is verified\n",
      "Google is a business account\n",
      "Google is following 31 accounts\n",
      "Google has 1,439 posts\n"
     ]
    }
   ],
   "source": [
    "# instascrape supports dot notation\n",
    "print(f\"Google has {google.followers:,} followers.\")\n",
    "if google.is_verified:\n",
    "    print(\"Google is verified\")\n",
    "if google.is_business_account:\n",
    "    print(\"Google is a business account\")\n",
    "\n",
    "# instascrape also supports bracket notation\n",
    "print(f\"Google is following {google['following']} accounts\")\n",
    "print(f\"Google has {google['posts']:,} posts\")"
   ]
  }
 ],
 "metadata": {
  "kernelspec": {
   "display_name": "Python 3",
   "language": "python",
   "name": "python3"
  },
  "language_info": {
   "codemirror_mode": {
    "name": "ipython",
    "version": 3
   },
   "file_extension": ".py",
   "mimetype": "text/x-python",
   "name": "python",
   "nbconvert_exporter": "python",
   "pygments_lexer": "ipython3",
   "version": "3.7.4"
  }
 },
 "nbformat": 4,
 "nbformat_minor": 2
}
