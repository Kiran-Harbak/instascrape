{
 "cells": [
  {
   "cell_type": "markdown",
   "metadata": {},
   "source": [
    "# Part 1 - Quickstart\n",
    "\n",
    "In this section, we're going to import the library and work with standard code snippets so we know what to expect from the API."
   ]
  },
  {
   "cell_type": "markdown",
   "metadata": {},
   "source": [
    "## Importing the library\n",
    "\n",
    "Most of what you'll need from the API is exposed by simply calling:"
   ]
  },
  {
   "cell_type": "code",
   "execution_count": 2,
   "metadata": {},
   "outputs": [],
   "source": [
    "import instascrape "
   ]
  },
  {
   "cell_type": "markdown",
   "metadata": {},
   "source": [
    "## The three pillars of instascrape"
   ]
  },
  {
   "cell_type": "markdown",
   "metadata": {},
   "source": [
    "The API is designed in such a way such that the scrapers also double as representations of what it is they're scraping. The three workhorse scrapers you'll primarily be dealing with are the `Post`, `Profile`, and `Hashtag` objects. Let's take a look at how these work:"
   ]
  },
  {
   "cell_type": "code",
   "execution_count": 4,
   "metadata": {},
   "outputs": [],
   "source": [
    "post = instascrape.Post('CGQG3-hlcNQ')\n",
    "profile = instascrape.Profile('google')\n",
    "hashtag = instascrape.Hashtag('programming')"
   ]
  },
  {
   "cell_type": "code",
   "execution_count": null,
   "metadata": {},
   "outputs": [],
   "source": []
  }
 ],
 "metadata": {
  "kernelspec": {
   "display_name": "Python 3",
   "language": "python",
   "name": "python3"
  },
  "language_info": {
   "codemirror_mode": {
    "name": "ipython",
    "version": 3
   },
   "file_extension": ".py",
   "mimetype": "text/x-python",
   "name": "python",
   "nbconvert_exporter": "python",
   "pygments_lexer": "ipython3",
   "version": "3.7.4"
  }
 },
 "nbformat": 4,
 "nbformat_minor": 2
}
