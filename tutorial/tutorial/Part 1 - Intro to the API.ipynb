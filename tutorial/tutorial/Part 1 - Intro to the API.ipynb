{
 "cells": [
  {
   "cell_type": "markdown",
   "metadata": {},
   "source": [
    "# Part 1 - Intro to the API\n",
    "\n",
    "In this section, we're going to get a quick feel for the API so you can get back to doing what you do best: programming. "
   ]
  },
  {
   "cell_type": "markdown",
   "metadata": {},
   "source": [
    "## Importing the library\n",
    "\n",
    "Most of what you'll need from the API is exposed by simply calling:"
   ]
  },
  {
   "cell_type": "code",
   "execution_count": 1,
   "metadata": {},
   "outputs": [],
   "source": [
    "import instascrape "
   ]
  },
  {
   "cell_type": "markdown",
   "metadata": {},
   "source": [
    "## The three pillars of instascrape"
   ]
  },
  {
   "cell_type": "markdown",
   "metadata": {},
   "source": [
    "instascrape's API is designed in such a way such that the scrapers also double as semantic representations of what it is they're scraping (this will make more sense in a second). The three workhorse scrapers you'll mostly be dealing with are the `Post`, `Profile`, and `Hashtag` objects. Let's take a look at how these work:"
   ]
  },
  {
   "cell_type": "code",
   "execution_count": 2,
   "metadata": {},
   "outputs": [],
   "source": [
    "from instascrape import Post, Profile, Hashtag\n",
    "\n",
    "google_post = Post('CGQG3-hlcNQ')\n",
    "google = Profile('google')\n",
    "google_hashtag = Hashtag('google')"
   ]
  },
  {
   "cell_type": "markdown",
   "metadata": {},
   "source": [
    "Awesome! We can see almost immediately what our intentions are with this script: \n",
    "- scrape one post\n",
    "- one profile\n",
    "- and one hashtag. \n",
    "\n",
    "Before we actually scrape our data though, let's build some contextual background knowledge on the API. \n",
    "\n",
    "Under the hood, `Post`, `Profile`, and `Hashtag` are sibling subclasses. Thus, once you're familiar with the methods and expected behaviors of one object, this will mostly translate to the others as well. There are only a handful of methods that are obvious and specific to their respective subclass as we will explore in later sections. \n"
   ]
  },
  {
   "cell_type": "markdown",
   "metadata": {},
   "source": [
    "## Scraping the data \n",
    "\n",
    "Let's now scrape some data!"
   ]
  },
  {
   "cell_type": "code",
   "execution_count": 3,
   "metadata": {},
   "outputs": [],
   "source": [
    "google_post.scrape()\n",
    "google.scrape()\n",
    "google_hashtag.scrape()"
   ]
  },
  {
   "cell_type": "markdown",
   "metadata": {},
   "source": [
    "And that's it! No, seriously. That's it. To access the scraped data now, we have a couple options. As we discussed earlier, the scrapers also serve as semantic representations of what it is they scraped, let's take a look at what this means in practice:"
   ]
  },
  {
   "cell_type": "code",
   "execution_count": 4,
   "metadata": {},
   "outputs": [
    {
     "name": "stdout",
     "output_type": "stream",
     "text": [
      "Google has 12,277,033 followers.\n",
      "Google is verified\n",
      "Google is a business account\n",
      "Google is following 31 accounts\n",
      "Google has 1,439 posts\n"
     ]
    }
   ],
   "source": [
    "# instascrape supports dot notation\n",
    "print(f\"Google has {google.followers:,} followers.\")\n",
    "if google.is_verified: \n",
    "    print(\"Google is verified\")\n",
    "if google.is_business_account:\n",
    "    print(\"Google is a business account\")\n",
    "\n",
    "# instascrape also supports bracket notation\n",
    "print(f\"Google is following {google['following']} accounts\")\n",
    "print(f\"Google has {google['posts']:,} posts\")"
   ]
  },
  {
   "cell_type": "markdown",
   "metadata": {},
   "source": [
    "Concise and expressive syntax is what it's all about. Each subclass has their own unique attributes relevant to what it is they scraped. A `Profile` is obviously not going to have an amount of `likes` and a `Post` is not going to have `followers`. \n",
    "\n",
    "OKAY, now you're about to see a wall of code output. **_DO NOT PANIC_**. EVERYTHING IS FINE. OKAY? Let's take a peak at what the `Post` object offers us after scraping. "
   ]
  },
  {
   "cell_type": "code",
   "execution_count": 10,
   "metadata": {},
   "outputs": [
    {
     "name": "stdout",
     "output_type": "stream",
     "text": [
      "{'csrf_token': 'a9wf1JCMGjMLaESxCzcHvO6a6slnS6mq', 'viewer': None, 'viewer_id': None, 'country_code': 'US', 'language_code': 'en', 'locale': 'en_US', 'device_id': '6CE5ABBE-B5D0-4EB0-8BA6-4597D08D5A96', 'browser_push_pub_key': 'BIBn3E_rWTci8Xn6P9Xj3btShT85Wdtne0LtwNUyRQ5XjFNkuTq9j4MPAVLvAFhXrUU1A9UxyxBA7YIOjqDIDHI', 'key_id': '238', 'public_key': '68cfdea6eca263a4ace2853a8630039dc43a3a9febaa9e67822793196b475744', 'version': '10', 'is_dev': False, 'rollout_hash': '9fcc62e59353', 'bundle_variant': 'metro', 'frontend_dev': 'prod', 'id': '2418463234883699536', 'shortcode': 'CGQG3-hlcNQ', 'height': 1333, 'width': 750, 'gating_info': None, 'fact_check_overall_rating': None, 'fact_check_information': None, 'sensitivity_friction_info': None, 'media_overlay_info': None, 'media_preview': None, 'display_url': 'https://scontent-iad3-1.cdninstagram.com/v/t51.2885-15/e35/121225391_196671788493786_8291234317057247918_n.jpg?_nc_ht=scontent-iad3-1.cdninstagram.com&_nc_cat=106&_nc_ohc=lOyn-AmAha4AX8pZzcy&tp=1&oh=566c3450f4c31e47999ac0e26189baee&oe=5FCA03F1', 'accessibility_caption': None, 'is_video': True, 'tracking_token': 'eyJ2ZXJzaW9uIjo1LCJwYXlsb2FkIjp7ImlzX2FuYWx5dGljc190cmFja2VkIjp0cnVlLCJ1dWlkIjoiNDhiMzNjMzRiMzJmNGZjM2JhM2E2ZTJlNzJkMTQ5ZDAyNDE4NDYzMjM0ODgzNjk5NTM2In0sInNpZ25hdHVyZSI6IiJ9', 'tagged_users': [], 'caption': 'Sometimes the best moments in life are the ones where we receive little acts of kindness. Hit ▶️ on kindness this #NationalBullyingPreventionMonth with Interland, the online #BeInternetAwesome video game that shows #ItsCoolToBeKind. g.co/KindKingdom. #MySuperG', 'caption_is_edited': False, 'has_ranked_comments': False, 'comments': 214, 'comments_disabled': False, 'commenting_disabled_for_viewer': False, 'timestamp': 1602523317, 'likes': 17534, 'location': nan, 'viewer_has_liked': False, 'viewer_has_saved': False, 'viewer_has_saved_to_collection': False, 'viewer_in_photo_of_you': False, 'viewer_can_reshare': True, 'video_url': 'https://scontent-iad3-1.cdninstagram.com/v/t50.2886-16/121217884_199359144934914_151140672758339747_n.mp4?_nc_ht=scontent-iad3-1.cdninstagram.com&_nc_cat=106&_nc_ohc=ahcCSz9jx9AAX_rbC46&oe=5FC9F317&oh=2458a0cc02181c839f411c49bc97eb2c', 'has_audio': True, 'video_view_count': 88030, 'upload_date': datetime.datetime(2020, 10, 12, 13, 21, 57), 'hashtags': ['NationalBullyingPreventionMonth', 'BeInternetAwesome', 'ItsCoolToBeKind', 'MySuperG']}\n"
     ]
    }
   ],
   "source": [
    "print(google_post.to_dict())"
   ]
  },
  {
   "cell_type": "markdown",
   "metadata": {},
   "source": [
    "That there's 49 data points. Not bad for essentially three lines of code! I'll leave examining `Profile` and `Hashtag`'s available attributes as an exercise for the reader (the syntax is exactly the same).    "
   ]
  },
  {
   "cell_type": "markdown",
   "metadata": {},
   "source": [
    "## Alright, that's kinda neat but what else can instascrape handle?\n",
    "\n",
    "While being able to pass just a shortcode/username/hashtag is pretty to look at, sometimes we'll want to scrape from a different source. instascrape puts the power in your hands with how you want to use it. \n",
    "\n",
    "Earlier, when we instantiated `google = Profile('google')` and called `google.scrape()`, we kicked off an assembly line that \n",
    "- creates the full URL for Google's Instagram profile \n",
    "- requests HTML from that URL \n",
    "- creates BeautifulSoup out of the HTML\n",
    "- parses the JSON data from the BeautifulSoup\n",
    "- converts the serialized JSON into a Python `dict`\n",
    "\n",
    "and finally parses data from that `dict` into the user friendly instance attributes that you will use. Internally, you can bypass any of these steps by passing an expected format in as an argument. \n",
    "\n",
    "This means that instascrape can scrape\n",
    "- shortcode/username/hashtag\n",
    "- full URL \n",
    "- HTML \n",
    "- BeautifulSoup\n",
    "- serialized JSON \n",
    "- JSON dictionary \n",
    "\n",
    "assuming it comes from a valid Instagram page. \n",
    "\n",
    "In practice, this allows you to do something like:"
   ]
  },
  {
   "cell_type": "code",
   "execution_count": 13,
   "metadata": {},
   "outputs": [
    {
     "name": "stdout",
     "output_type": "stream",
     "text": [
      "Google has 6 highlight reels.\n"
     ]
    }
   ],
   "source": [
    "import requests\n",
    "from instascrape import Profile\n",
    "\n",
    "resp = requests.get(\"https://www.instagram.com/google/\")\n",
    "source_html = resp.text\n",
    "google = instascrape.Profile(source_html)\n",
    "google.scrape()\n",
    "print(f\"Google has {google.highlight_reel_count} highlight reels.\")"
   ]
  },
  {
   "cell_type": "markdown",
   "metadata": {},
   "source": [
    "_Flexibility is key_. Some people want to autonomously scrape their business' Instagram once a day and log follower growth over time. Other people are asynchrounously scraping hundreds of posts a second from rotating proxy servers and don't want the restriction of sequential HTTP requests. instascrape hopefully has something for everyone <3"
   ]
  },
  {
   "cell_type": "markdown",
   "metadata": {},
   "source": [
    "# Wrapping up \n",
    "\n",
    "If you understood most of this, then you're ready to get out there and start scraping some data! There is of course more to explore that "
   ]
  }
 ],
 "metadata": {
  "kernelspec": {
   "display_name": "Python 3",
   "language": "python",
   "name": "python3"
  },
  "language_info": {
   "codemirror_mode": {
    "name": "ipython",
    "version": 3
   },
   "file_extension": ".py",
   "mimetype": "text/x-python",
   "name": "python",
   "nbconvert_exporter": "python",
   "pygments_lexer": "ipython3",
   "version": "3.7.4"
  }
 },
 "nbformat": 4,
 "nbformat_minor": 2
}
